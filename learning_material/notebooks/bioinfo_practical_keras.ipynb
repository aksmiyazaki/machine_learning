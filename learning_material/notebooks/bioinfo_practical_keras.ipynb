{
 "cells": [
  {
   "cell_type": "markdown",
   "metadata": {},
   "source": [
    "# Parsing data"
   ]
  },
  {
   "cell_type": "code",
   "execution_count": null,
   "metadata": {},
   "outputs": [],
   "source": [
    "from __future__ import print_function"
   ]
  },
  {
   "cell_type": "code",
   "execution_count": null,
   "metadata": {},
   "outputs": [],
   "source": [
    "import re\n",
    "import os\n",
    "import glob"
   ]
  },
  {
   "cell_type": "code",
   "execution_count": null,
   "metadata": {},
   "outputs": [],
   "source": [
    "scrape_dir = os.path.join('..', 'data-scrapes')\n",
    "print(scrape_dir)"
   ]
  },
  {
   "cell_type": "code",
   "execution_count": null,
   "metadata": {},
   "outputs": [],
   "source": [
    "import datetime, time\n",
    "ts = time.time()\n",
    "st = datetime.datetime.fromtimestamp(ts).strftime('%Y%m%d-%H%M%S')\n",
    "\n",
    "out_file = os.path.join('..', 'data', 'protein-seqs_' + st + '.txt')\n",
    "print(\"Converting sequences. . . to [\" +out_file+\"]\")"
   ]
  },
  {
   "cell_type": "code",
   "execution_count": null,
   "metadata": {},
   "outputs": [],
   "source": [
    "num_proteins_done = 0\n",
    "\n",
    "fasta_files = glob.glob(scrape_dir + \"/*fasta\")\n",
    "print(fasta_files)"
   ]
  },
  {
   "cell_type": "code",
   "execution_count": null,
   "metadata": {},
   "outputs": [],
   "source": [
    "def dump_to_file(protein_id, seq):\n",
    "    print('Writing', protein_id, seq, \"to file\", out_file)\n",
    "    with open(out_file, \"a\") as f:\n",
    "        f.write(protein_id + \",\" + seq + \"\\n\")"
   ]
  },
  {
   "cell_type": "code",
   "execution_count": null,
   "metadata": {},
   "outputs": [],
   "source": [
    "for fname in fasta_files:\n",
    "    print(\"Converting %s:\" % fname)\n",
    "    \n",
    "    with open(fname, 'r') as f:\n",
    "        protein_seq = ''\n",
    "        protein_id = ''\n",
    "        \n",
    "        for line in f:\n",
    "            print('Processing line', num_proteins_done)\n",
    "            match = re.search(r'^>([a-z]{2})\\|([A-Z0-9]*)\\|', line)\n",
    "            if match:\n",
    "                if protein_id != '':\n",
    "                    dump_to_file(protein_id, protein_seq)\n",
    "                \n",
    "                num_proteins_done += 1\n",
    "                if num_proteins_done > 10: break\n",
    "                \n",
    "                protein_id = match.group(2)\n",
    "                protein_seq = ''\n",
    "            else:\n",
    "                protein_seq += line.strip()\n",
    "        if protein_id != '':\n",
    "            dump_to_file(protein_id, protein_seq)"
   ]
  },
  {
   "cell_type": "code",
   "execution_count": null,
   "metadata": {},
   "outputs": [],
   "source": [
    "out_file_fns = os.path.join('..', 'data', 'protein_fun_' + st + '.txt')\n",
    "print(\"Converting functions to [\", out_file_fns, \"]\")\n",
    "\n",
    "target_functions = ['0005524']"
   ]
  },
  {
   "cell_type": "code",
   "execution_count": null,
   "metadata": {},
   "outputs": [],
   "source": [
    "annot_files = glob.glob(scrape_dir + \"/*annotations.txt\")\n",
    "print(annot_files)"
   ]
  },
  {
   "cell_type": "code",
   "execution_count": null,
   "metadata": {},
   "outputs": [],
   "source": [
    "func_list = []\n",
    "\n",
    "for fname in annot_files:\n",
    "    print(\"Parsing\", fname)\n",
    "    with open(fname, 'r') as f:\n",
    "        for line in f:\n",
    "            match = re.search(r'([A-Z0-9]*)\\sGO:(.*);\\sF:.*;', line)\n",
    "            if match:\n",
    "                protein_id = match.group(1)\n",
    "                function = match.group(2)\n",
    "                \n",
    "                if function not in target_functions:\n",
    "                    continue\n",
    "                \n",
    "                func_list.append(protein_id)\n",
    "    import json\n",
    "    with open(out_file_fns, 'w') as fp:\n",
    "        json.dump(func_list, fp)\n",
    "        \n",
    "    print(func_list[:10])"
   ]
  },
  {
   "cell_type": "code",
   "execution_count": null,
   "metadata": {},
   "outputs": [],
   "source": []
  }
 ],
 "metadata": {
  "kernelspec": {
   "display_name": "Python 3",
   "language": "python",
   "name": "python3"
  },
  "language_info": {
   "codemirror_mode": {
    "name": "ipython",
    "version": 3
   },
   "file_extension": ".py",
   "mimetype": "text/x-python",
   "name": "python",
   "nbconvert_exporter": "python",
   "pygments_lexer": "ipython3",
   "version": "3.6.4"
  }
 },
 "nbformat": 4,
 "nbformat_minor": 2
}
